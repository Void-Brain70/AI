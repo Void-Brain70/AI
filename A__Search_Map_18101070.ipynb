{
  "nbformat": 4,
  "nbformat_minor": 0,
  "metadata": {
    "colab": {
      "name": "A*_Search_Map_18101070.ipynb",
      "provenance": [],
      "collapsed_sections": [],
      "authorship_tag": "ABX9TyPcjMllJdZ+FHVjiOwb53gJ",
      "include_colab_link": true
    },
    "kernelspec": {
      "name": "python3",
      "display_name": "Python 3"
    },
    "language_info": {
      "name": "python"
    }
  },
  "cells": [
    {
      "cell_type": "markdown",
      "metadata": {
        "id": "view-in-github",
        "colab_type": "text"
      },
      "source": [
        "<a href=\"https://colab.research.google.com/github/Void-Brain70/AI/blob/main/A__Search_Map_18101070.ipynb\" target=\"_parent\"><img src=\"https://colab.research.google.com/assets/colab-badge.svg\" alt=\"Open In Colab\"/></a>"
      ]
    },
    {
      "cell_type": "code",
      "metadata": {
        "colab": {
          "base_uri": "https://localhost:8080/",
          "height": 394
        },
        "id": "UZ4g-AqbpCq4",
        "outputId": "49798fb8-6555-4acf-b7ee-f05576f1b809"
      },
      "source": [
        "# import pandas libaries\n",
        "import pandas as pd\n",
        "pd.set_option('mode.chained_assignment', None) #Sets the value of the specified option.\n",
        "df = pd.read_csv('/content/MapData.csv') # for read csv file\n",
        "df # show dataframe"
      ],
      "execution_count": 32,
      "outputs": [
        {
          "output_type": "execute_result",
          "data": {
            "text/html": [
              "<div>\n",
              "<style scoped>\n",
              "    .dataframe tbody tr th:only-of-type {\n",
              "        vertical-align: middle;\n",
              "    }\n",
              "\n",
              "    .dataframe tbody tr th {\n",
              "        vertical-align: top;\n",
              "    }\n",
              "\n",
              "    .dataframe thead th {\n",
              "        text-align: right;\n",
              "    }\n",
              "</style>\n",
              "<table border=\"1\" class=\"dataframe\">\n",
              "  <thead>\n",
              "    <tr style=\"text-align: right;\">\n",
              "      <th></th>\n",
              "      <th>0</th>\n",
              "      <th>1</th>\n",
              "      <th>2</th>\n",
              "      <th>3</th>\n",
              "    </tr>\n",
              "  </thead>\n",
              "  <tbody>\n",
              "    <tr>\n",
              "      <th>0</th>\n",
              "      <td>A</td>\n",
              "      <td>B</td>\n",
              "      <td>5</td>\n",
              "      <td>3</td>\n",
              "    </tr>\n",
              "    <tr>\n",
              "      <th>1</th>\n",
              "      <td>B</td>\n",
              "      <td>C</td>\n",
              "      <td>10</td>\n",
              "      <td>5</td>\n",
              "    </tr>\n",
              "    <tr>\n",
              "      <th>2</th>\n",
              "      <td>B</td>\n",
              "      <td>D</td>\n",
              "      <td>15</td>\n",
              "      <td>2</td>\n",
              "    </tr>\n",
              "    <tr>\n",
              "      <th>3</th>\n",
              "      <td>C</td>\n",
              "      <td>E</td>\n",
              "      <td>15</td>\n",
              "      <td>3</td>\n",
              "    </tr>\n",
              "    <tr>\n",
              "      <th>4</th>\n",
              "      <td>D</td>\n",
              "      <td>F</td>\n",
              "      <td>20</td>\n",
              "      <td>5</td>\n",
              "    </tr>\n",
              "    <tr>\n",
              "      <th>5</th>\n",
              "      <td>E</td>\n",
              "      <td>G</td>\n",
              "      <td>15</td>\n",
              "      <td>4</td>\n",
              "    </tr>\n",
              "    <tr>\n",
              "      <th>6</th>\n",
              "      <td>F</td>\n",
              "      <td>G</td>\n",
              "      <td>20</td>\n",
              "      <td>4</td>\n",
              "    </tr>\n",
              "    <tr>\n",
              "      <th>7</th>\n",
              "      <td>G</td>\n",
              "      <td>I</td>\n",
              "      <td>5</td>\n",
              "      <td>6</td>\n",
              "    </tr>\n",
              "    <tr>\n",
              "      <th>8</th>\n",
              "      <td>G</td>\n",
              "      <td>J</td>\n",
              "      <td>10</td>\n",
              "      <td>3</td>\n",
              "    </tr>\n",
              "    <tr>\n",
              "      <th>9</th>\n",
              "      <td>I</td>\n",
              "      <td>K</td>\n",
              "      <td>5</td>\n",
              "      <td>0</td>\n",
              "    </tr>\n",
              "    <tr>\n",
              "      <th>10</th>\n",
              "      <td>I</td>\n",
              "      <td>K</td>\n",
              "      <td>10</td>\n",
              "      <td>0</td>\n",
              "    </tr>\n",
              "  </tbody>\n",
              "</table>\n",
              "</div>"
            ],
            "text/plain": [
              "    0  1   2  3\n",
              "0   A  B   5  3\n",
              "1   B  C  10  5\n",
              "2   B  D  15  2\n",
              "3   C  E  15  3\n",
              "4   D  F  20  5\n",
              "5   E  G  15  4\n",
              "6   F  G  20  4\n",
              "7   G  I   5  6\n",
              "8   G  J  10  3\n",
              "9   I  K   5  0\n",
              "10  I  K  10  0"
            ]
          },
          "metadata": {},
          "execution_count": 32
        }
      ]
    },
    {
      "cell_type": "code",
      "metadata": {
        "colab": {
          "base_uri": "https://localhost:8080/"
        },
        "id": "oTvF6aDBuQnR",
        "outputId": "eccd2d79-861a-4466-c3f7-57839e4c62b5"
      },
      "source": [
        "# Calculated heuristic value accrodding to my id\n",
        "id = 70\n",
        "A = id%4+2  # Home(Narayanganj)\n",
        "B = id%5+3  # Chasara\n",
        "C = id%6+1  # Signbord\n",
        "D = id%5+2  # Ponchoboti\n",
        "E = id%4+1  # Jatrabari\n",
        "F = id%4+3  # Gandaria\n",
        "G = id%5+4  # Gulistan\n",
        "I = id%6+2  # Shahbag\n",
        "J = id%5+3  # Newmarket\n",
        "\n",
        "# we know goal state heuristic value are 0 so h(K)UAP = 0 \n",
        "\n",
        "\n",
        "A,B,C,D,E,F,G,I,J"
      ],
      "execution_count": 33,
      "outputs": [
        {
          "output_type": "execute_result",
          "data": {
            "text/plain": [
              "(4, 3, 5, 2, 3, 5, 4, 6, 3)"
            ]
          },
          "metadata": {},
          "execution_count": 33
        }
      ]
    },
    {
      "cell_type": "code",
      "metadata": {
        "colab": {
          "base_uri": "https://localhost:8080/"
        },
        "id": "UkaDiiYBqTaK",
        "outputId": "0a36e346-538f-4252-c7e3-96c7d7c42b81"
      },
      "source": [
        "# get input from user start node and goal node \n",
        "# in this case start node 'A(Home{Narayanganj})' and goal node 'K(UAP)'\n",
        "start = input('Give Start Node->').upper()\n",
        "goal = input('Give Goal Node->').upper()"
      ],
      "execution_count": 34,
      "outputs": [
        {
          "name": "stdout",
          "output_type": "stream",
          "text": [
            "Give Start Node->A\n",
            "Give Goal Node->K\n"
          ]
        }
      ]
    },
    {
      "cell_type": "code",
      "metadata": {
        "colab": {
          "base_uri": "https://localhost:8080/"
        },
        "id": "fdo95zHeqaT6",
        "outputId": "d310ae13-24e3-40e7-f45c-b46b92fbe69d"
      },
      "source": [
        "# In this part show the start and goal node\n",
        "print(\"The node are->\")\n",
        "start,goal"
      ],
      "execution_count": 35,
      "outputs": [
        {
          "output_type": "stream",
          "name": "stdout",
          "text": [
            "The node are->\n"
          ]
        },
        {
          "output_type": "execute_result",
          "data": {
            "text/plain": [
              "('A', 'K')"
            ]
          },
          "metadata": {},
          "execution_count": 35
        }
      ]
    },
    {
      "cell_type": "code",
      "metadata": {
        "colab": {
          "base_uri": "https://localhost:8080/",
          "height": 394
        },
        "id": "NL4w08YUqdPa",
        "outputId": "a816b74e-118a-4c28-fab2-25129b06243f"
      },
      "source": [
        "# In this part change dataframe  columns name [0,1,2,3] to ['Parent','Child','g(n)','h(n)']\n",
        "df.columns = ['Parent', 'Child', 'g(n)', 'h(n)']\n",
        "# Cast a pandas object to a specified dtype\n",
        "# Now we will g(n) and h(n) convert it into 'int32' type. for path calculation\n",
        "# This Struct is used to represents 32-bit signed integer. The Int32 can store both types of values including negative and positive between the ranges of -2147483648 to +2147483647.\n",
        "df['g(n)'] = df['g(n)'].astype('int32')  # Cast all columns to int32 4 bytes\n",
        "df['h(n)'] = df['h(n)'].astype('int32') \n",
        "df"
      ],
      "execution_count": 36,
      "outputs": [
        {
          "output_type": "execute_result",
          "data": {
            "text/html": [
              "<div>\n",
              "<style scoped>\n",
              "    .dataframe tbody tr th:only-of-type {\n",
              "        vertical-align: middle;\n",
              "    }\n",
              "\n",
              "    .dataframe tbody tr th {\n",
              "        vertical-align: top;\n",
              "    }\n",
              "\n",
              "    .dataframe thead th {\n",
              "        text-align: right;\n",
              "    }\n",
              "</style>\n",
              "<table border=\"1\" class=\"dataframe\">\n",
              "  <thead>\n",
              "    <tr style=\"text-align: right;\">\n",
              "      <th></th>\n",
              "      <th>Parent</th>\n",
              "      <th>Child</th>\n",
              "      <th>g(n)</th>\n",
              "      <th>h(n)</th>\n",
              "    </tr>\n",
              "  </thead>\n",
              "  <tbody>\n",
              "    <tr>\n",
              "      <th>0</th>\n",
              "      <td>A</td>\n",
              "      <td>B</td>\n",
              "      <td>5</td>\n",
              "      <td>3</td>\n",
              "    </tr>\n",
              "    <tr>\n",
              "      <th>1</th>\n",
              "      <td>B</td>\n",
              "      <td>C</td>\n",
              "      <td>10</td>\n",
              "      <td>5</td>\n",
              "    </tr>\n",
              "    <tr>\n",
              "      <th>2</th>\n",
              "      <td>B</td>\n",
              "      <td>D</td>\n",
              "      <td>15</td>\n",
              "      <td>2</td>\n",
              "    </tr>\n",
              "    <tr>\n",
              "      <th>3</th>\n",
              "      <td>C</td>\n",
              "      <td>E</td>\n",
              "      <td>15</td>\n",
              "      <td>3</td>\n",
              "    </tr>\n",
              "    <tr>\n",
              "      <th>4</th>\n",
              "      <td>D</td>\n",
              "      <td>F</td>\n",
              "      <td>20</td>\n",
              "      <td>5</td>\n",
              "    </tr>\n",
              "    <tr>\n",
              "      <th>5</th>\n",
              "      <td>E</td>\n",
              "      <td>G</td>\n",
              "      <td>15</td>\n",
              "      <td>4</td>\n",
              "    </tr>\n",
              "    <tr>\n",
              "      <th>6</th>\n",
              "      <td>F</td>\n",
              "      <td>G</td>\n",
              "      <td>20</td>\n",
              "      <td>4</td>\n",
              "    </tr>\n",
              "    <tr>\n",
              "      <th>7</th>\n",
              "      <td>G</td>\n",
              "      <td>I</td>\n",
              "      <td>5</td>\n",
              "      <td>6</td>\n",
              "    </tr>\n",
              "    <tr>\n",
              "      <th>8</th>\n",
              "      <td>G</td>\n",
              "      <td>J</td>\n",
              "      <td>10</td>\n",
              "      <td>3</td>\n",
              "    </tr>\n",
              "    <tr>\n",
              "      <th>9</th>\n",
              "      <td>I</td>\n",
              "      <td>K</td>\n",
              "      <td>5</td>\n",
              "      <td>0</td>\n",
              "    </tr>\n",
              "    <tr>\n",
              "      <th>10</th>\n",
              "      <td>I</td>\n",
              "      <td>K</td>\n",
              "      <td>10</td>\n",
              "      <td>0</td>\n",
              "    </tr>\n",
              "  </tbody>\n",
              "</table>\n",
              "</div>"
            ],
            "text/plain": [
              "   Parent Child  g(n)  h(n)\n",
              "0       A     B     5     3\n",
              "1       B     C    10     5\n",
              "2       B     D    15     2\n",
              "3       C     E    15     3\n",
              "4       D     F    20     5\n",
              "5       E     G    15     4\n",
              "6       F     G    20     4\n",
              "7       G     I     5     6\n",
              "8       G     J    10     3\n",
              "9       I     K     5     0\n",
              "10      I     K    10     0"
            ]
          },
          "metadata": {},
          "execution_count": 36
        }
      ]
    },
    {
      "cell_type": "code",
      "metadata": {
        "id": "_HISTdwdvu4C"
      },
      "source": [
        "ls = []\n",
        "for i in  df.values: #Return a Numpy representation of the DataFrame.\n",
        "    # index 0 1 2 3 \n",
        "    if i[3] =='A': \n",
        "        i[3]=A\n",
        "    elif i[1]=='B':\n",
        "        i[3]=B\n",
        "    elif i[1]=='C':\n",
        "        i[3]=C \n",
        "    elif i[1]=='D':\n",
        "        i[3]=D\n",
        "    elif i[1]=='E':\n",
        "        i[3]=E\n",
        "    elif i[1]=='F':\n",
        "        i[3]=F\n",
        "    elif i[1]=='G':\n",
        "        i[3]=G\n",
        "    elif i[1]=='I':\n",
        "        i[3]=I\n",
        "    elif i[1]=='J':\n",
        "        i[3]=J\n",
        "    ls.append(i) # append all the h(n) value accoding to parent h(n)"
      ],
      "execution_count": 37,
      "outputs": []
    },
    {
      "cell_type": "code",
      "metadata": {
        "colab": {
          "base_uri": "https://localhost:8080/",
          "height": 394
        },
        "id": "85PUpgOpxB89",
        "outputId": "f77935bd-ea1f-4b5f-cb9a-8a725291a83d"
      },
      "source": [
        "path = [start] # list \n",
        "# store dataframe with ('ls' value) in new_df for next part \n",
        "new_df = pd.DataFrame(ls,columns=['Parent', 'Child', 'g(n)', 'h(n)'])\n",
        "new_df"
      ],
      "execution_count": 38,
      "outputs": [
        {
          "output_type": "execute_result",
          "data": {
            "text/html": [
              "<div>\n",
              "<style scoped>\n",
              "    .dataframe tbody tr th:only-of-type {\n",
              "        vertical-align: middle;\n",
              "    }\n",
              "\n",
              "    .dataframe tbody tr th {\n",
              "        vertical-align: top;\n",
              "    }\n",
              "\n",
              "    .dataframe thead th {\n",
              "        text-align: right;\n",
              "    }\n",
              "</style>\n",
              "<table border=\"1\" class=\"dataframe\">\n",
              "  <thead>\n",
              "    <tr style=\"text-align: right;\">\n",
              "      <th></th>\n",
              "      <th>Parent</th>\n",
              "      <th>Child</th>\n",
              "      <th>g(n)</th>\n",
              "      <th>h(n)</th>\n",
              "    </tr>\n",
              "  </thead>\n",
              "  <tbody>\n",
              "    <tr>\n",
              "      <th>0</th>\n",
              "      <td>A</td>\n",
              "      <td>B</td>\n",
              "      <td>5</td>\n",
              "      <td>3</td>\n",
              "    </tr>\n",
              "    <tr>\n",
              "      <th>1</th>\n",
              "      <td>B</td>\n",
              "      <td>C</td>\n",
              "      <td>10</td>\n",
              "      <td>5</td>\n",
              "    </tr>\n",
              "    <tr>\n",
              "      <th>2</th>\n",
              "      <td>B</td>\n",
              "      <td>D</td>\n",
              "      <td>15</td>\n",
              "      <td>2</td>\n",
              "    </tr>\n",
              "    <tr>\n",
              "      <th>3</th>\n",
              "      <td>C</td>\n",
              "      <td>E</td>\n",
              "      <td>15</td>\n",
              "      <td>3</td>\n",
              "    </tr>\n",
              "    <tr>\n",
              "      <th>4</th>\n",
              "      <td>D</td>\n",
              "      <td>F</td>\n",
              "      <td>20</td>\n",
              "      <td>5</td>\n",
              "    </tr>\n",
              "    <tr>\n",
              "      <th>5</th>\n",
              "      <td>E</td>\n",
              "      <td>G</td>\n",
              "      <td>15</td>\n",
              "      <td>4</td>\n",
              "    </tr>\n",
              "    <tr>\n",
              "      <th>6</th>\n",
              "      <td>F</td>\n",
              "      <td>G</td>\n",
              "      <td>20</td>\n",
              "      <td>4</td>\n",
              "    </tr>\n",
              "    <tr>\n",
              "      <th>7</th>\n",
              "      <td>G</td>\n",
              "      <td>I</td>\n",
              "      <td>5</td>\n",
              "      <td>6</td>\n",
              "    </tr>\n",
              "    <tr>\n",
              "      <th>8</th>\n",
              "      <td>G</td>\n",
              "      <td>J</td>\n",
              "      <td>10</td>\n",
              "      <td>3</td>\n",
              "    </tr>\n",
              "    <tr>\n",
              "      <th>9</th>\n",
              "      <td>I</td>\n",
              "      <td>K</td>\n",
              "      <td>5</td>\n",
              "      <td>0</td>\n",
              "    </tr>\n",
              "    <tr>\n",
              "      <th>10</th>\n",
              "      <td>I</td>\n",
              "      <td>K</td>\n",
              "      <td>10</td>\n",
              "      <td>0</td>\n",
              "    </tr>\n",
              "  </tbody>\n",
              "</table>\n",
              "</div>"
            ],
            "text/plain": [
              "   Parent Child  g(n)  h(n)\n",
              "0       A     B     5     3\n",
              "1       B     C    10     5\n",
              "2       B     D    15     2\n",
              "3       C     E    15     3\n",
              "4       D     F    20     5\n",
              "5       E     G    15     4\n",
              "6       F     G    20     4\n",
              "7       G     I     5     6\n",
              "8       G     J    10     3\n",
              "9       I     K     5     0\n",
              "10      I     K    10     0"
            ]
          },
          "metadata": {},
          "execution_count": 38
        }
      ]
    },
    {
      "cell_type": "code",
      "metadata": {
        "colab": {
          "base_uri": "https://localhost:8080/"
        },
        "id": "1ZOAEpkWxFtL",
        "outputId": "d6248e56-927c-431a-fc57-e525394449b6"
      },
      "source": [
        "path_cost = 0 # initially path cost 0\n",
        "# add a dictionary for realistic \n",
        "dic = {\n",
        "        'A' : 'Home(Narayanganj)',\n",
        "        'B' : 'Chasara',\n",
        "        'C' : 'Signboard',\n",
        "        'D' : 'Ponchobti\t',\n",
        "        'E' : 'Jatrabari',\n",
        "        'F' : 'Gandaria',\n",
        "        'G' : 'Gulistan',\n",
        "        'I' : 'Shahbag',\n",
        "        'J' : 'Newmarket',\n",
        "        'K' : 'UAP',\n",
        "}\n",
        "while True:\n",
        "    if start==goal: # if goal node == start node it's means the goal node and start are same so the code break.\n",
        "      break\n",
        "    \n",
        "    # if not same goal node == start node . then the execution start\n",
        "    ddf = new_df[sdf.Parent==start] # first check our input(start) and dataframe firts Parent node()  are same the put the value of 'New_df' in 'df'\n",
        "    ddf['f(n)']=ddf[['g(n)','h(n)']].sum(axis=1) # then calculated f(n)=g(n)+h(n) and create new axis f(n)\n",
        "    \n",
        "    # sort_values(_) Sort by the values along either axis.\n",
        "    # reset_index(_) Reset the index of the DataFrame, and use the default one instead. If the DataFrame has a MultiIndex, this method can remove one or more levels.\n",
        "    ddf=ddf.sort_values(by='f(n)',ascending=True).reset_index(drop=True)\n",
        "    \n",
        "    # Print the table of calcultion content\n",
        "    print(ddf) \n",
        "    \n",
        "    #.loc[] is primarily label based, but may also be used with a boolean array.\n",
        "    start = ddf.loc[0].Child # Use an .loc array for add all possible start to child cost path and store .loc array for new start node \n",
        "    path_cost+=ddf.loc[0]['g(n)'] # sum all the possible cost path g(n)\n",
        "    path.append(start) # finally add all the possible cost path g(n) and store in path variable"
      ],
      "execution_count": 39,
      "outputs": [
        {
          "output_type": "stream",
          "name": "stdout",
          "text": [
            "  Parent Child  g(n)  h(n)  f(n)\n",
            "0      A     B     5     3     8\n",
            "  Parent Child  g(n)  h(n)  f(n)\n",
            "0      B     C    10     5    15\n",
            "1      B     D    15     2    17\n",
            "  Parent Child  g(n)  h(n)  f(n)\n",
            "0      C     E    15     3    18\n",
            "  Parent Child  g(n)  h(n)  f(n)\n",
            "0      E     G    15     4    19\n",
            "  Parent Child  g(n)  h(n)  f(n)\n",
            "0      G     I     5     6    11\n",
            "1      G     J    10     3    13\n",
            "  Parent Child  g(n)  h(n)  f(n)\n",
            "0      I     K     5     0     5\n",
            "1      I     K    10     0    10\n"
          ]
        }
      ]
    },
    {
      "cell_type": "code",
      "metadata": {
        "colab": {
          "base_uri": "https://localhost:8080/"
        },
        "id": "NJt3j8Q5SXGu",
        "outputId": "6024b3db-7c5a-47ac-f300-8150e066c28e"
      },
      "source": [
        "# Print the shortest path using a loop \n",
        "print('Shortes path are->') \n",
        "for i in range(len(path)-1):\n",
        "        print(dic[path[i]], end=' -> ')       \n",
        "print(dic[path[len(path) - 1]])"
      ],
      "execution_count": 40,
      "outputs": [
        {
          "output_type": "stream",
          "name": "stdout",
          "text": [
            "Shortes path are->\n",
            "Home(Narayanganj) -> Chasara -> Signboard -> Jatrabari -> Gulistan -> Shahbag -> UAP\n"
          ]
        }
      ]
    },
    {
      "cell_type": "code",
      "metadata": {
        "colab": {
          "base_uri": "https://localhost:8080/"
        },
        "id": "pvWQlDpRxYN2",
        "outputId": "39e8a0ef-c487-45f2-8d59-fc9f17af746b"
      },
      "source": [
        "# Print the path cost\n",
        "print('Total path cost->',path_cost+list(ddf[ddf['Child']==goal]['h(n)'])[0])"
      ],
      "execution_count": 41,
      "outputs": [
        {
          "output_type": "stream",
          "name": "stdout",
          "text": [
            "Total path cost-> 55\n"
          ]
        }
      ]
    }
  ]
}