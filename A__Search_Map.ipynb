{
  "nbformat": 4,
  "nbformat_minor": 0,
  "metadata": {
    "colab": {
      "name": "A*_Search_Map.ipynb",
      "provenance": [],
      "authorship_tag": "ABX9TyOHlP9CuSnlubFQrOjWLC+9",
      "include_colab_link": true
    },
    "kernelspec": {
      "name": "python3",
      "display_name": "Python 3"
    },
    "language_info": {
      "name": "python"
    }
  },
  "cells": [
    {
      "cell_type": "markdown",
      "metadata": {
        "id": "view-in-github",
        "colab_type": "text"
      },
      "source": [
        "<a href=\"https://colab.research.google.com/github/Void-Brain70/AI/blob/main/A__Search_Map.ipynb\" target=\"_parent\"><img src=\"https://colab.research.google.com/assets/colab-badge.svg\" alt=\"Open In Colab\"/></a>"
      ]
    },
    {
      "cell_type": "code",
      "metadata": {
        "colab": {
          "base_uri": "https://localhost:8080/",
          "height": 394
        },
        "id": "UZ4g-AqbpCq4",
        "outputId": "08446cb7-ae3c-4d74-ad15-77f871e263bb"
      },
      "source": [
        "import pandas as pd\n",
        "pd.set_option('mode.chained_assignment', None)\n",
        "df = pd.read_csv('/content/Input.csv')\n",
        "df"
      ],
      "execution_count": 17,
      "outputs": [
        {
          "output_type": "execute_result",
          "data": {
            "text/html": [
              "<div>\n",
              "<style scoped>\n",
              "    .dataframe tbody tr th:only-of-type {\n",
              "        vertical-align: middle;\n",
              "    }\n",
              "\n",
              "    .dataframe tbody tr th {\n",
              "        vertical-align: top;\n",
              "    }\n",
              "\n",
              "    .dataframe thead th {\n",
              "        text-align: right;\n",
              "    }\n",
              "</style>\n",
              "<table border=\"1\" class=\"dataframe\">\n",
              "  <thead>\n",
              "    <tr style=\"text-align: right;\">\n",
              "      <th></th>\n",
              "      <th>0</th>\n",
              "      <th>1</th>\n",
              "      <th>2</th>\n",
              "      <th>3</th>\n",
              "    </tr>\n",
              "  </thead>\n",
              "  <tbody>\n",
              "    <tr>\n",
              "      <th>0</th>\n",
              "      <td>A</td>\n",
              "      <td>B</td>\n",
              "      <td>5</td>\n",
              "      <td>3</td>\n",
              "    </tr>\n",
              "    <tr>\n",
              "      <th>1</th>\n",
              "      <td>B</td>\n",
              "      <td>C</td>\n",
              "      <td>10</td>\n",
              "      <td>5</td>\n",
              "    </tr>\n",
              "    <tr>\n",
              "      <th>2</th>\n",
              "      <td>B</td>\n",
              "      <td>D</td>\n",
              "      <td>15</td>\n",
              "      <td>2</td>\n",
              "    </tr>\n",
              "    <tr>\n",
              "      <th>3</th>\n",
              "      <td>C</td>\n",
              "      <td>E</td>\n",
              "      <td>15</td>\n",
              "      <td>3</td>\n",
              "    </tr>\n",
              "    <tr>\n",
              "      <th>4</th>\n",
              "      <td>D</td>\n",
              "      <td>F</td>\n",
              "      <td>20</td>\n",
              "      <td>5</td>\n",
              "    </tr>\n",
              "    <tr>\n",
              "      <th>5</th>\n",
              "      <td>E</td>\n",
              "      <td>G</td>\n",
              "      <td>15</td>\n",
              "      <td>4</td>\n",
              "    </tr>\n",
              "    <tr>\n",
              "      <th>6</th>\n",
              "      <td>F</td>\n",
              "      <td>G</td>\n",
              "      <td>20</td>\n",
              "      <td>4</td>\n",
              "    </tr>\n",
              "    <tr>\n",
              "      <th>7</th>\n",
              "      <td>G</td>\n",
              "      <td>I</td>\n",
              "      <td>5</td>\n",
              "      <td>6</td>\n",
              "    </tr>\n",
              "    <tr>\n",
              "      <th>8</th>\n",
              "      <td>G</td>\n",
              "      <td>J</td>\n",
              "      <td>10</td>\n",
              "      <td>3</td>\n",
              "    </tr>\n",
              "    <tr>\n",
              "      <th>9</th>\n",
              "      <td>I</td>\n",
              "      <td>K</td>\n",
              "      <td>5</td>\n",
              "      <td>0</td>\n",
              "    </tr>\n",
              "    <tr>\n",
              "      <th>10</th>\n",
              "      <td>I</td>\n",
              "      <td>K</td>\n",
              "      <td>10</td>\n",
              "      <td>0</td>\n",
              "    </tr>\n",
              "  </tbody>\n",
              "</table>\n",
              "</div>"
            ],
            "text/plain": [
              "    0  1   2  3\n",
              "0   A  B   5  3\n",
              "1   B  C  10  5\n",
              "2   B  D  15  2\n",
              "3   C  E  15  3\n",
              "4   D  F  20  5\n",
              "5   E  G  15  4\n",
              "6   F  G  20  4\n",
              "7   G  I   5  6\n",
              "8   G  J  10  3\n",
              "9   I  K   5  0\n",
              "10  I  K  10  0"
            ]
          },
          "metadata": {},
          "execution_count": 17
        }
      ]
    },
    {
      "cell_type": "code",
      "metadata": {
        "colab": {
          "base_uri": "https://localhost:8080/"
        },
        "id": "oTvF6aDBuQnR",
        "outputId": "0c10078b-b440-4001-c38d-5ca252e81c29"
      },
      "source": [
        "id = 70\n",
        "A = id%4+2\n",
        "B = id%5+3\n",
        "C = id%6+1\n",
        "D = id%5+2\n",
        "E = id%4+1\n",
        "F = id%4+3\n",
        "G = id%5+4\n",
        "I = id%6+2\n",
        "J = id%5+3\n",
        "\n",
        "\n",
        "A,B,C,D,E,F,G,I,J"
      ],
      "execution_count": 18,
      "outputs": [
        {
          "output_type": "execute_result",
          "data": {
            "text/plain": [
              "(4, 3, 5, 2, 3, 5, 4, 6, 3)"
            ]
          },
          "metadata": {},
          "execution_count": 18
        }
      ]
    },
    {
      "cell_type": "code",
      "metadata": {
        "colab": {
          "base_uri": "https://localhost:8080/"
        },
        "id": "UkaDiiYBqTaK",
        "outputId": "1590c60d-d0b7-4122-e2c8-a0616d3beda9"
      },
      "source": [
        "header = input('Give Start Node->').upper()\n",
        "goal = input('Give Goal Node->').upper()"
      ],
      "execution_count": 19,
      "outputs": [
        {
          "name": "stdout",
          "output_type": "stream",
          "text": [
            "Give Start Node->A\n",
            "Give Goal Node->K\n"
          ]
        }
      ]
    },
    {
      "cell_type": "code",
      "metadata": {
        "colab": {
          "base_uri": "https://localhost:8080/"
        },
        "id": "fdo95zHeqaT6",
        "outputId": "e06a8ebe-f8cd-4cae-b1d0-d96e538c092d"
      },
      "source": [
        "print(\"The node are->\")\n",
        "header,goal"
      ],
      "execution_count": 20,
      "outputs": [
        {
          "output_type": "stream",
          "name": "stdout",
          "text": [
            "The node are->\n"
          ]
        },
        {
          "output_type": "execute_result",
          "data": {
            "text/plain": [
              "('A', 'K')"
            ]
          },
          "metadata": {},
          "execution_count": 20
        }
      ]
    },
    {
      "cell_type": "code",
      "metadata": {
        "colab": {
          "base_uri": "https://localhost:8080/",
          "height": 394
        },
        "id": "NL4w08YUqdPa",
        "outputId": "33cf87f2-021c-4da6-d56c-79dcc735a6c9"
      },
      "source": [
        "df.columns = ['Parent', 'Child', 'g(n)', 'h(n)']\n",
        "df['g(n)'] = df['g(n)'].astype('int32') \n",
        "df['h(n)'] = df['h(n)'].astype('int32') \n",
        "df"
      ],
      "execution_count": 21,
      "outputs": [
        {
          "output_type": "execute_result",
          "data": {
            "text/html": [
              "<div>\n",
              "<style scoped>\n",
              "    .dataframe tbody tr th:only-of-type {\n",
              "        vertical-align: middle;\n",
              "    }\n",
              "\n",
              "    .dataframe tbody tr th {\n",
              "        vertical-align: top;\n",
              "    }\n",
              "\n",
              "    .dataframe thead th {\n",
              "        text-align: right;\n",
              "    }\n",
              "</style>\n",
              "<table border=\"1\" class=\"dataframe\">\n",
              "  <thead>\n",
              "    <tr style=\"text-align: right;\">\n",
              "      <th></th>\n",
              "      <th>Parent</th>\n",
              "      <th>Child</th>\n",
              "      <th>g(n)</th>\n",
              "      <th>h(n)</th>\n",
              "    </tr>\n",
              "  </thead>\n",
              "  <tbody>\n",
              "    <tr>\n",
              "      <th>0</th>\n",
              "      <td>A</td>\n",
              "      <td>B</td>\n",
              "      <td>5</td>\n",
              "      <td>3</td>\n",
              "    </tr>\n",
              "    <tr>\n",
              "      <th>1</th>\n",
              "      <td>B</td>\n",
              "      <td>C</td>\n",
              "      <td>10</td>\n",
              "      <td>5</td>\n",
              "    </tr>\n",
              "    <tr>\n",
              "      <th>2</th>\n",
              "      <td>B</td>\n",
              "      <td>D</td>\n",
              "      <td>15</td>\n",
              "      <td>2</td>\n",
              "    </tr>\n",
              "    <tr>\n",
              "      <th>3</th>\n",
              "      <td>C</td>\n",
              "      <td>E</td>\n",
              "      <td>15</td>\n",
              "      <td>3</td>\n",
              "    </tr>\n",
              "    <tr>\n",
              "      <th>4</th>\n",
              "      <td>D</td>\n",
              "      <td>F</td>\n",
              "      <td>20</td>\n",
              "      <td>5</td>\n",
              "    </tr>\n",
              "    <tr>\n",
              "      <th>5</th>\n",
              "      <td>E</td>\n",
              "      <td>G</td>\n",
              "      <td>15</td>\n",
              "      <td>4</td>\n",
              "    </tr>\n",
              "    <tr>\n",
              "      <th>6</th>\n",
              "      <td>F</td>\n",
              "      <td>G</td>\n",
              "      <td>20</td>\n",
              "      <td>4</td>\n",
              "    </tr>\n",
              "    <tr>\n",
              "      <th>7</th>\n",
              "      <td>G</td>\n",
              "      <td>I</td>\n",
              "      <td>5</td>\n",
              "      <td>6</td>\n",
              "    </tr>\n",
              "    <tr>\n",
              "      <th>8</th>\n",
              "      <td>G</td>\n",
              "      <td>J</td>\n",
              "      <td>10</td>\n",
              "      <td>3</td>\n",
              "    </tr>\n",
              "    <tr>\n",
              "      <th>9</th>\n",
              "      <td>I</td>\n",
              "      <td>K</td>\n",
              "      <td>5</td>\n",
              "      <td>0</td>\n",
              "    </tr>\n",
              "    <tr>\n",
              "      <th>10</th>\n",
              "      <td>I</td>\n",
              "      <td>K</td>\n",
              "      <td>10</td>\n",
              "      <td>0</td>\n",
              "    </tr>\n",
              "  </tbody>\n",
              "</table>\n",
              "</div>"
            ],
            "text/plain": [
              "   Parent Child  g(n)  h(n)\n",
              "0       A     B     5     3\n",
              "1       B     C    10     5\n",
              "2       B     D    15     2\n",
              "3       C     E    15     3\n",
              "4       D     F    20     5\n",
              "5       E     G    15     4\n",
              "6       F     G    20     4\n",
              "7       G     I     5     6\n",
              "8       G     J    10     3\n",
              "9       I     K     5     0\n",
              "10      I     K    10     0"
            ]
          },
          "metadata": {},
          "execution_count": 21
        }
      ]
    },
    {
      "cell_type": "code",
      "metadata": {
        "id": "_HISTdwdvu4C"
      },
      "source": [
        "ls = []\n",
        "for i in  df.values:\n",
        "    \n",
        "    if i[3] =='A':\n",
        "        i[3]=A\n",
        "    elif i[1]=='B':\n",
        "        i[3]=B\n",
        "    elif i[1]=='C':\n",
        "        i[3]=C \n",
        "    elif i[1]=='D':\n",
        "        i[3]=D\n",
        "    elif i[1]=='E':\n",
        "        i[3]=E\n",
        "    elif i[1]=='F':\n",
        "        i[3]=F\n",
        "    elif i[1]=='G':\n",
        "        i[3]=G\n",
        "    elif i[1]=='I':\n",
        "        i[3]=I\n",
        "    elif i[1]=='J':\n",
        "        i[3]=J\n",
        "    ls.append(i)"
      ],
      "execution_count": 22,
      "outputs": []
    },
    {
      "cell_type": "code",
      "metadata": {
        "colab": {
          "base_uri": "https://localhost:8080/",
          "height": 394
        },
        "id": "85PUpgOpxB89",
        "outputId": "a3e24e33-10aa-48a6-d034-6f0d3c1eca8d"
      },
      "source": [
        "path = [header]\n",
        "sdf = pd.DataFrame(ls,columns=['Parent', 'Child', 'g(n)', 'h(n)'])\n",
        "sdf"
      ],
      "execution_count": 23,
      "outputs": [
        {
          "output_type": "execute_result",
          "data": {
            "text/html": [
              "<div>\n",
              "<style scoped>\n",
              "    .dataframe tbody tr th:only-of-type {\n",
              "        vertical-align: middle;\n",
              "    }\n",
              "\n",
              "    .dataframe tbody tr th {\n",
              "        vertical-align: top;\n",
              "    }\n",
              "\n",
              "    .dataframe thead th {\n",
              "        text-align: right;\n",
              "    }\n",
              "</style>\n",
              "<table border=\"1\" class=\"dataframe\">\n",
              "  <thead>\n",
              "    <tr style=\"text-align: right;\">\n",
              "      <th></th>\n",
              "      <th>Parent</th>\n",
              "      <th>Child</th>\n",
              "      <th>g(n)</th>\n",
              "      <th>h(n)</th>\n",
              "    </tr>\n",
              "  </thead>\n",
              "  <tbody>\n",
              "    <tr>\n",
              "      <th>0</th>\n",
              "      <td>A</td>\n",
              "      <td>B</td>\n",
              "      <td>5</td>\n",
              "      <td>3</td>\n",
              "    </tr>\n",
              "    <tr>\n",
              "      <th>1</th>\n",
              "      <td>B</td>\n",
              "      <td>C</td>\n",
              "      <td>10</td>\n",
              "      <td>5</td>\n",
              "    </tr>\n",
              "    <tr>\n",
              "      <th>2</th>\n",
              "      <td>B</td>\n",
              "      <td>D</td>\n",
              "      <td>15</td>\n",
              "      <td>2</td>\n",
              "    </tr>\n",
              "    <tr>\n",
              "      <th>3</th>\n",
              "      <td>C</td>\n",
              "      <td>E</td>\n",
              "      <td>15</td>\n",
              "      <td>3</td>\n",
              "    </tr>\n",
              "    <tr>\n",
              "      <th>4</th>\n",
              "      <td>D</td>\n",
              "      <td>F</td>\n",
              "      <td>20</td>\n",
              "      <td>5</td>\n",
              "    </tr>\n",
              "    <tr>\n",
              "      <th>5</th>\n",
              "      <td>E</td>\n",
              "      <td>G</td>\n",
              "      <td>15</td>\n",
              "      <td>4</td>\n",
              "    </tr>\n",
              "    <tr>\n",
              "      <th>6</th>\n",
              "      <td>F</td>\n",
              "      <td>G</td>\n",
              "      <td>20</td>\n",
              "      <td>4</td>\n",
              "    </tr>\n",
              "    <tr>\n",
              "      <th>7</th>\n",
              "      <td>G</td>\n",
              "      <td>I</td>\n",
              "      <td>5</td>\n",
              "      <td>6</td>\n",
              "    </tr>\n",
              "    <tr>\n",
              "      <th>8</th>\n",
              "      <td>G</td>\n",
              "      <td>J</td>\n",
              "      <td>10</td>\n",
              "      <td>3</td>\n",
              "    </tr>\n",
              "    <tr>\n",
              "      <th>9</th>\n",
              "      <td>I</td>\n",
              "      <td>K</td>\n",
              "      <td>5</td>\n",
              "      <td>0</td>\n",
              "    </tr>\n",
              "    <tr>\n",
              "      <th>10</th>\n",
              "      <td>I</td>\n",
              "      <td>K</td>\n",
              "      <td>10</td>\n",
              "      <td>0</td>\n",
              "    </tr>\n",
              "  </tbody>\n",
              "</table>\n",
              "</div>"
            ],
            "text/plain": [
              "   Parent Child  g(n)  h(n)\n",
              "0       A     B     5     3\n",
              "1       B     C    10     5\n",
              "2       B     D    15     2\n",
              "3       C     E    15     3\n",
              "4       D     F    20     5\n",
              "5       E     G    15     4\n",
              "6       F     G    20     4\n",
              "7       G     I     5     6\n",
              "8       G     J    10     3\n",
              "9       I     K     5     0\n",
              "10      I     K    10     0"
            ]
          },
          "metadata": {},
          "execution_count": 23
        }
      ]
    },
    {
      "cell_type": "code",
      "metadata": {
        "colab": {
          "base_uri": "https://localhost:8080/"
        },
        "id": "1ZOAEpkWxFtL",
        "outputId": "f4863db6-fa2d-4369-8f1e-33785c9ba8a7"
      },
      "source": [
        "path_cost = 0\n",
        "dic = {\n",
        "        'A' : 'Narayanganj',\n",
        "        'B' : 'Chasara',\n",
        "        'C' : 'Signboard',\n",
        "        'D' : 'Ponchobti\t',\n",
        "        'E' : 'Jatrabari',\n",
        "        'F' : 'Gandaria',\n",
        "        'G' : 'Gulistan',\n",
        "        'I' : 'Shahbag',\n",
        "        'J' : 'Newmarket',\n",
        "        'K' : 'UAP',\n",
        "}\n",
        "while True:\n",
        "    if header==goal:\n",
        "      break\n",
        "    sd = sdf[sdf.Parent==header]\n",
        "    sd['cost']=sd[['g(n)','h(n)']].sum(axis=1)\n",
        "    \n",
        "    sd=sd.sort_values(by='cost',ascending=True).reset_index(drop=True)\n",
        "    print(sd)\n",
        "    header = sd.loc[0].Child\n",
        "    path_cost+=sd.loc[0]['g(n)']\n",
        "    path.append(header)\n"
      ],
      "execution_count": 24,
      "outputs": [
        {
          "output_type": "stream",
          "name": "stdout",
          "text": [
            "  Parent Child  g(n)  h(n)  cost\n",
            "0      A     B     5     3     8\n",
            "  Parent Child  g(n)  h(n)  cost\n",
            "0      B     C    10     5    15\n",
            "1      B     D    15     2    17\n",
            "  Parent Child  g(n)  h(n)  cost\n",
            "0      C     E    15     3    18\n",
            "  Parent Child  g(n)  h(n)  cost\n",
            "0      E     G    15     4    19\n",
            "  Parent Child  g(n)  h(n)  cost\n",
            "0      G     I     5     6    11\n",
            "1      G     J    10     3    13\n",
            "  Parent Child  g(n)  h(n)  cost\n",
            "0      I     K     5     0     5\n",
            "1      I     K    10     0    10\n"
          ]
        }
      ]
    },
    {
      "cell_type": "code",
      "metadata": {
        "colab": {
          "base_uri": "https://localhost:8080/"
        },
        "id": "NJt3j8Q5SXGu",
        "outputId": "16e89a41-4ad0-4492-c3a8-cc15492835d1"
      },
      "source": [
        "print('Shortes path are->') \n",
        "for i in range(len(path)-1):\n",
        "        print(dic[path[i]], end=' -> ')       \n",
        "print(dic[path[len(path) - 1]])\n"
      ],
      "execution_count": 29,
      "outputs": [
        {
          "output_type": "stream",
          "name": "stdout",
          "text": [
            "Shortes path are->\n",
            "Narayanganj -> Chasara -> Signboard -> Jatrabari -> Gulistan -> Shahbag -> UAP\n"
          ]
        }
      ]
    },
    {
      "cell_type": "code",
      "metadata": {
        "colab": {
          "base_uri": "https://localhost:8080/"
        },
        "id": "pvWQlDpRxYN2",
        "outputId": "5a12b788-25e4-4852-e1c4-0bdc5693428c"
      },
      "source": [
        "print('Total path cost->',path_cost+list(sdf[sdf['Child']==goal]['h(n)'])[0])"
      ],
      "execution_count": 30,
      "outputs": [
        {
          "output_type": "stream",
          "name": "stdout",
          "text": [
            "Total path cost-> 55\n"
          ]
        }
      ]
    }
  ]
}