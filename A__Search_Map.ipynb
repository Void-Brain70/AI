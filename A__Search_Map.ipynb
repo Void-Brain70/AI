{
  "nbformat": 4,
  "nbformat_minor": 0,
  "metadata": {
    "colab": {
      "name": "A*_Search_Map.ipynb",
      "provenance": [],
      "authorship_tag": "ABX9TyMyZVWzcKnUusaNAWgL1mgA",
      "include_colab_link": true
    },
    "kernelspec": {
      "name": "python3",
      "display_name": "Python 3"
    },
    "language_info": {
      "name": "python"
    }
  },
  "cells": [
    {
      "cell_type": "markdown",
      "metadata": {
        "id": "view-in-github",
        "colab_type": "text"
      },
      "source": [
        "<a href=\"https://colab.research.google.com/github/Void-Brain70/AI/blob/main/A__Search_Map.ipynb\" target=\"_parent\"><img src=\"https://colab.research.google.com/assets/colab-badge.svg\" alt=\"Open In Colab\"/></a>"
      ]
    },
    {
      "cell_type": "code",
      "metadata": {
        "colab": {
          "base_uri": "https://localhost:8080/",
          "height": 394
        },
        "id": "UZ4g-AqbpCq4",
        "outputId": "e1a1acac-fea5-454d-cb4e-ea0616d21a1e"
      },
      "source": [
        "import pandas as pd\n",
        "pd.set_option('mode.chained_assignment', None)\n",
        "df = pd.read_csv('/content/Input.csv')\n",
        "df"
      ],
      "execution_count": 106,
      "outputs": [
        {
          "output_type": "execute_result",
          "data": {
            "text/html": [
              "<div>\n",
              "<style scoped>\n",
              "    .dataframe tbody tr th:only-of-type {\n",
              "        vertical-align: middle;\n",
              "    }\n",
              "\n",
              "    .dataframe tbody tr th {\n",
              "        vertical-align: top;\n",
              "    }\n",
              "\n",
              "    .dataframe thead th {\n",
              "        text-align: right;\n",
              "    }\n",
              "</style>\n",
              "<table border=\"1\" class=\"dataframe\">\n",
              "  <thead>\n",
              "    <tr style=\"text-align: right;\">\n",
              "      <th></th>\n",
              "      <th>0</th>\n",
              "      <th>1</th>\n",
              "      <th>2</th>\n",
              "      <th>3</th>\n",
              "    </tr>\n",
              "  </thead>\n",
              "  <tbody>\n",
              "    <tr>\n",
              "      <th>0</th>\n",
              "      <td>A</td>\n",
              "      <td>B</td>\n",
              "      <td>5</td>\n",
              "      <td>3</td>\n",
              "    </tr>\n",
              "    <tr>\n",
              "      <th>1</th>\n",
              "      <td>B</td>\n",
              "      <td>C</td>\n",
              "      <td>20</td>\n",
              "      <td>5</td>\n",
              "    </tr>\n",
              "    <tr>\n",
              "      <th>2</th>\n",
              "      <td>B</td>\n",
              "      <td>D</td>\n",
              "      <td>10</td>\n",
              "      <td>2</td>\n",
              "    </tr>\n",
              "    <tr>\n",
              "      <th>3</th>\n",
              "      <td>C</td>\n",
              "      <td>E</td>\n",
              "      <td>15</td>\n",
              "      <td>3</td>\n",
              "    </tr>\n",
              "    <tr>\n",
              "      <th>4</th>\n",
              "      <td>D</td>\n",
              "      <td>F</td>\n",
              "      <td>30</td>\n",
              "      <td>5</td>\n",
              "    </tr>\n",
              "    <tr>\n",
              "      <th>5</th>\n",
              "      <td>E</td>\n",
              "      <td>G</td>\n",
              "      <td>15</td>\n",
              "      <td>4</td>\n",
              "    </tr>\n",
              "    <tr>\n",
              "      <th>6</th>\n",
              "      <td>F</td>\n",
              "      <td>G</td>\n",
              "      <td>20</td>\n",
              "      <td>4</td>\n",
              "    </tr>\n",
              "    <tr>\n",
              "      <th>7</th>\n",
              "      <td>G</td>\n",
              "      <td>I</td>\n",
              "      <td>5</td>\n",
              "      <td>6</td>\n",
              "    </tr>\n",
              "    <tr>\n",
              "      <th>8</th>\n",
              "      <td>G</td>\n",
              "      <td>J</td>\n",
              "      <td>10</td>\n",
              "      <td>3</td>\n",
              "    </tr>\n",
              "    <tr>\n",
              "      <th>9</th>\n",
              "      <td>I</td>\n",
              "      <td>K</td>\n",
              "      <td>5</td>\n",
              "      <td>0</td>\n",
              "    </tr>\n",
              "    <tr>\n",
              "      <th>10</th>\n",
              "      <td>I</td>\n",
              "      <td>K</td>\n",
              "      <td>10</td>\n",
              "      <td>0</td>\n",
              "    </tr>\n",
              "  </tbody>\n",
              "</table>\n",
              "</div>"
            ],
            "text/plain": [
              "    0  1   2  3\n",
              "0   A  B   5  3\n",
              "1   B  C  20  5\n",
              "2   B  D  10  2\n",
              "3   C  E  15  3\n",
              "4   D  F  30  5\n",
              "5   E  G  15  4\n",
              "6   F  G  20  4\n",
              "7   G  I   5  6\n",
              "8   G  J  10  3\n",
              "9   I  K   5  0\n",
              "10  I  K  10  0"
            ]
          },
          "metadata": {},
          "execution_count": 106
        }
      ]
    },
    {
      "cell_type": "code",
      "metadata": {
        "colab": {
          "base_uri": "https://localhost:8080/"
        },
        "id": "oTvF6aDBuQnR",
        "outputId": "f3eb894b-f45a-424e-e630-88ef0d438fe5"
      },
      "source": [
        "id = 70\n",
        "A = id%4+2\n",
        "B = id%5+3\n",
        "C = id%6+1\n",
        "D = id%5+2\n",
        "E = id%4+1\n",
        "F = id%4+3\n",
        "G = id%5+4\n",
        "I = id%6+2\n",
        "J = id%5+3\n",
        "\n",
        "\n",
        "A,B,C,D,E,F,G,I,J"
      ],
      "execution_count": 108,
      "outputs": [
        {
          "output_type": "execute_result",
          "data": {
            "text/plain": [
              "(4, 3, 5, 2, 3, 5, 4, 6, 3)"
            ]
          },
          "metadata": {},
          "execution_count": 108
        }
      ]
    },
    {
      "cell_type": "code",
      "metadata": {
        "colab": {
          "base_uri": "https://localhost:8080/"
        },
        "id": "UkaDiiYBqTaK",
        "outputId": "f16e4ae0-33d1-4202-fed5-d35301b1de13"
      },
      "source": [
        "header = input('Give Start State').upper()\n",
        "goal = input('Give Goal State').upper()"
      ],
      "execution_count": 109,
      "outputs": [
        {
          "name": "stdout",
          "output_type": "stream",
          "text": [
            "Give Start StateA\n",
            "Give Goal StateK\n"
          ]
        }
      ]
    },
    {
      "cell_type": "code",
      "metadata": {
        "colab": {
          "base_uri": "https://localhost:8080/"
        },
        "id": "fdo95zHeqaT6",
        "outputId": "f7b68a06-bde7-4c9e-8cbc-0b3cda993156"
      },
      "source": [
        "header,goal"
      ],
      "execution_count": 110,
      "outputs": [
        {
          "output_type": "execute_result",
          "data": {
            "text/plain": [
              "('A', 'K')"
            ]
          },
          "metadata": {},
          "execution_count": 110
        }
      ]
    },
    {
      "cell_type": "code",
      "metadata": {
        "colab": {
          "base_uri": "https://localhost:8080/",
          "height": 394
        },
        "id": "NL4w08YUqdPa",
        "outputId": "0fe44c9f-4cfb-49db-e86a-c3561a10f784"
      },
      "source": [
        "df.columns = ['Parent', 'Child', 'g(n)', 'h(n)']\n",
        "df['g(n)'] = df['g(n)'].astype('int32') \n",
        "df['h(n)'] = df['h(n)'].astype('int32') \n",
        "df"
      ],
      "execution_count": 111,
      "outputs": [
        {
          "output_type": "execute_result",
          "data": {
            "text/html": [
              "<div>\n",
              "<style scoped>\n",
              "    .dataframe tbody tr th:only-of-type {\n",
              "        vertical-align: middle;\n",
              "    }\n",
              "\n",
              "    .dataframe tbody tr th {\n",
              "        vertical-align: top;\n",
              "    }\n",
              "\n",
              "    .dataframe thead th {\n",
              "        text-align: right;\n",
              "    }\n",
              "</style>\n",
              "<table border=\"1\" class=\"dataframe\">\n",
              "  <thead>\n",
              "    <tr style=\"text-align: right;\">\n",
              "      <th></th>\n",
              "      <th>Parent</th>\n",
              "      <th>Child</th>\n",
              "      <th>g(n)</th>\n",
              "      <th>h(n)</th>\n",
              "    </tr>\n",
              "  </thead>\n",
              "  <tbody>\n",
              "    <tr>\n",
              "      <th>0</th>\n",
              "      <td>A</td>\n",
              "      <td>B</td>\n",
              "      <td>5</td>\n",
              "      <td>3</td>\n",
              "    </tr>\n",
              "    <tr>\n",
              "      <th>1</th>\n",
              "      <td>B</td>\n",
              "      <td>C</td>\n",
              "      <td>20</td>\n",
              "      <td>5</td>\n",
              "    </tr>\n",
              "    <tr>\n",
              "      <th>2</th>\n",
              "      <td>B</td>\n",
              "      <td>D</td>\n",
              "      <td>10</td>\n",
              "      <td>2</td>\n",
              "    </tr>\n",
              "    <tr>\n",
              "      <th>3</th>\n",
              "      <td>C</td>\n",
              "      <td>E</td>\n",
              "      <td>15</td>\n",
              "      <td>3</td>\n",
              "    </tr>\n",
              "    <tr>\n",
              "      <th>4</th>\n",
              "      <td>D</td>\n",
              "      <td>F</td>\n",
              "      <td>30</td>\n",
              "      <td>5</td>\n",
              "    </tr>\n",
              "    <tr>\n",
              "      <th>5</th>\n",
              "      <td>E</td>\n",
              "      <td>G</td>\n",
              "      <td>15</td>\n",
              "      <td>4</td>\n",
              "    </tr>\n",
              "    <tr>\n",
              "      <th>6</th>\n",
              "      <td>F</td>\n",
              "      <td>G</td>\n",
              "      <td>20</td>\n",
              "      <td>4</td>\n",
              "    </tr>\n",
              "    <tr>\n",
              "      <th>7</th>\n",
              "      <td>G</td>\n",
              "      <td>I</td>\n",
              "      <td>5</td>\n",
              "      <td>6</td>\n",
              "    </tr>\n",
              "    <tr>\n",
              "      <th>8</th>\n",
              "      <td>G</td>\n",
              "      <td>J</td>\n",
              "      <td>10</td>\n",
              "      <td>3</td>\n",
              "    </tr>\n",
              "    <tr>\n",
              "      <th>9</th>\n",
              "      <td>I</td>\n",
              "      <td>K</td>\n",
              "      <td>5</td>\n",
              "      <td>0</td>\n",
              "    </tr>\n",
              "    <tr>\n",
              "      <th>10</th>\n",
              "      <td>I</td>\n",
              "      <td>K</td>\n",
              "      <td>10</td>\n",
              "      <td>0</td>\n",
              "    </tr>\n",
              "  </tbody>\n",
              "</table>\n",
              "</div>"
            ],
            "text/plain": [
              "   Parent Child  g(n)  h(n)\n",
              "0       A     B     5     3\n",
              "1       B     C    20     5\n",
              "2       B     D    10     2\n",
              "3       C     E    15     3\n",
              "4       D     F    30     5\n",
              "5       E     G    15     4\n",
              "6       F     G    20     4\n",
              "7       G     I     5     6\n",
              "8       G     J    10     3\n",
              "9       I     K     5     0\n",
              "10      I     K    10     0"
            ]
          },
          "metadata": {},
          "execution_count": 111
        }
      ]
    },
    {
      "cell_type": "code",
      "metadata": {
        "id": "_HISTdwdvu4C"
      },
      "source": [
        "ls = []\n",
        "for i in  df.values:\n",
        "    \n",
        "    if i[3] =='A':\n",
        "        i[3]=A\n",
        "    elif i[1]=='B':\n",
        "        i[3]=B\n",
        "    elif i[1]=='C':\n",
        "        i[3]=C \n",
        "    elif i[1]=='D':\n",
        "        i[3]=D\n",
        "    elif i[1]=='E':\n",
        "        i[3]=E\n",
        "    elif i[1]=='F':\n",
        "        i[3]=F\n",
        "    elif i[1]=='G':\n",
        "        i[3]=G\n",
        "    elif i[1]=='I':\n",
        "        i[3]=I\n",
        "    elif i[1]=='J':\n",
        "        i[3]=J\n",
        "    ls.append(i)"
      ],
      "execution_count": 112,
      "outputs": []
    },
    {
      "cell_type": "code",
      "metadata": {
        "colab": {
          "base_uri": "https://localhost:8080/",
          "height": 394
        },
        "id": "85PUpgOpxB89",
        "outputId": "ad1d3487-d5ad-4e9a-9aad-cf1ebcddce8f"
      },
      "source": [
        "path = [header]\n",
        "sdf = pd.DataFrame(ls,columns=['Parent', 'Child', 'g(n)', 'h(n)'])\n",
        "sdf"
      ],
      "execution_count": 113,
      "outputs": [
        {
          "output_type": "execute_result",
          "data": {
            "text/html": [
              "<div>\n",
              "<style scoped>\n",
              "    .dataframe tbody tr th:only-of-type {\n",
              "        vertical-align: middle;\n",
              "    }\n",
              "\n",
              "    .dataframe tbody tr th {\n",
              "        vertical-align: top;\n",
              "    }\n",
              "\n",
              "    .dataframe thead th {\n",
              "        text-align: right;\n",
              "    }\n",
              "</style>\n",
              "<table border=\"1\" class=\"dataframe\">\n",
              "  <thead>\n",
              "    <tr style=\"text-align: right;\">\n",
              "      <th></th>\n",
              "      <th>Parent</th>\n",
              "      <th>Child</th>\n",
              "      <th>g(n)</th>\n",
              "      <th>h(n)</th>\n",
              "    </tr>\n",
              "  </thead>\n",
              "  <tbody>\n",
              "    <tr>\n",
              "      <th>0</th>\n",
              "      <td>A</td>\n",
              "      <td>B</td>\n",
              "      <td>5</td>\n",
              "      <td>3</td>\n",
              "    </tr>\n",
              "    <tr>\n",
              "      <th>1</th>\n",
              "      <td>B</td>\n",
              "      <td>C</td>\n",
              "      <td>20</td>\n",
              "      <td>5</td>\n",
              "    </tr>\n",
              "    <tr>\n",
              "      <th>2</th>\n",
              "      <td>B</td>\n",
              "      <td>D</td>\n",
              "      <td>10</td>\n",
              "      <td>2</td>\n",
              "    </tr>\n",
              "    <tr>\n",
              "      <th>3</th>\n",
              "      <td>C</td>\n",
              "      <td>E</td>\n",
              "      <td>15</td>\n",
              "      <td>3</td>\n",
              "    </tr>\n",
              "    <tr>\n",
              "      <th>4</th>\n",
              "      <td>D</td>\n",
              "      <td>F</td>\n",
              "      <td>30</td>\n",
              "      <td>5</td>\n",
              "    </tr>\n",
              "    <tr>\n",
              "      <th>5</th>\n",
              "      <td>E</td>\n",
              "      <td>G</td>\n",
              "      <td>15</td>\n",
              "      <td>4</td>\n",
              "    </tr>\n",
              "    <tr>\n",
              "      <th>6</th>\n",
              "      <td>F</td>\n",
              "      <td>G</td>\n",
              "      <td>20</td>\n",
              "      <td>4</td>\n",
              "    </tr>\n",
              "    <tr>\n",
              "      <th>7</th>\n",
              "      <td>G</td>\n",
              "      <td>I</td>\n",
              "      <td>5</td>\n",
              "      <td>6</td>\n",
              "    </tr>\n",
              "    <tr>\n",
              "      <th>8</th>\n",
              "      <td>G</td>\n",
              "      <td>J</td>\n",
              "      <td>10</td>\n",
              "      <td>3</td>\n",
              "    </tr>\n",
              "    <tr>\n",
              "      <th>9</th>\n",
              "      <td>I</td>\n",
              "      <td>K</td>\n",
              "      <td>5</td>\n",
              "      <td>0</td>\n",
              "    </tr>\n",
              "    <tr>\n",
              "      <th>10</th>\n",
              "      <td>I</td>\n",
              "      <td>K</td>\n",
              "      <td>10</td>\n",
              "      <td>0</td>\n",
              "    </tr>\n",
              "  </tbody>\n",
              "</table>\n",
              "</div>"
            ],
            "text/plain": [
              "   Parent Child  g(n)  h(n)\n",
              "0       A     B     5     3\n",
              "1       B     C    20     5\n",
              "2       B     D    10     2\n",
              "3       C     E    15     3\n",
              "4       D     F    30     5\n",
              "5       E     G    15     4\n",
              "6       F     G    20     4\n",
              "7       G     I     5     6\n",
              "8       G     J    10     3\n",
              "9       I     K     5     0\n",
              "10      I     K    10     0"
            ]
          },
          "metadata": {},
          "execution_count": 113
        }
      ]
    },
    {
      "cell_type": "code",
      "metadata": {
        "colab": {
          "base_uri": "https://localhost:8080/"
        },
        "id": "1ZOAEpkWxFtL",
        "outputId": "53f6a10f-b043-41e5-88fd-e4880ea5ed3f"
      },
      "source": [
        "path_cost = 0\n",
        "while True:\n",
        "    if header==goal:\n",
        "        break\n",
        "    sd = sdf[sdf.Parent==header]\n",
        "    sd['cost']=sd[['g(n)','h(n)']].sum(axis=1)\n",
        "    \n",
        "    sd=sd.sort_values(by='cost',ascending=True).reset_index(drop=True)\n",
        "    print(sd)\n",
        "    header = sd.loc[0].Child\n",
        "    path_cost+=sd.loc[0]['g(n)']#.value\n",
        "    path.append(header)"
      ],
      "execution_count": 114,
      "outputs": [
        {
          "output_type": "stream",
          "name": "stdout",
          "text": [
            "  Parent Child  g(n)  h(n)  cost\n",
            "0      A     B     5     3     8\n",
            "  Parent Child  g(n)  h(n)  cost\n",
            "0      B     D    10     2    12\n",
            "1      B     C    20     5    25\n",
            "  Parent Child  g(n)  h(n)  cost\n",
            "0      D     F    30     5    35\n",
            "  Parent Child  g(n)  h(n)  cost\n",
            "0      F     G    20     4    24\n",
            "  Parent Child  g(n)  h(n)  cost\n",
            "0      G     I     5     6    11\n",
            "1      G     J    10     3    13\n",
            "  Parent Child  g(n)  h(n)  cost\n",
            "0      I     K     5     0     5\n",
            "1      I     K    10     0    10\n"
          ]
        }
      ]
    },
    {
      "cell_type": "code",
      "metadata": {
        "colab": {
          "base_uri": "https://localhost:8080/"
        },
        "id": "6uRvBEgExWCu",
        "outputId": "6fc51705-ec7b-45a4-f9da-d1de251f18e5"
      },
      "source": [
        "print('Shortes path ',path)"
      ],
      "execution_count": 115,
      "outputs": [
        {
          "output_type": "stream",
          "name": "stdout",
          "text": [
            "Shortes path  ['A', 'B', 'D', 'F', 'G', 'I', 'K']\n"
          ]
        }
      ]
    },
    {
      "cell_type": "code",
      "metadata": {
        "colab": {
          "base_uri": "https://localhost:8080/"
        },
        "id": "pvWQlDpRxYN2",
        "outputId": "95a862de-0f66-4e7d-e49e-ad71dee1ea96"
      },
      "source": [
        "print('Total path cost is ',path_cost+list(sdf[sdf['Child']==goal]['h(n)'])[0])"
      ],
      "execution_count": 116,
      "outputs": [
        {
          "output_type": "stream",
          "name": "stdout",
          "text": [
            "Total path cost is  75\n"
          ]
        }
      ]
    }
  ]
}